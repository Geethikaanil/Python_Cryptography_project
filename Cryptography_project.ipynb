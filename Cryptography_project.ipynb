{
  "nbformat": 4,
  "nbformat_minor": 0,
  "metadata": {
    "colab": {
      "name": "Cryptography_project.ipynb",
      "provenance": [],
      "collapsed_sections": [],
      "authorship_tag": "ABX9TyOAhFqB4s6mj7wRb3MYIQ4X",
      "include_colab_link": true
    },
    "kernelspec": {
      "name": "python3",
      "display_name": "Python 3"
    }
  },
  "cells": [
    {
      "cell_type": "markdown",
      "metadata": {
        "id": "view-in-github",
        "colab_type": "text"
      },
      "source": [
        "<a href=\"https://colab.research.google.com/github/Geethikaanil/Python_Cryptography_project/blob/main/Cryptography_project.ipynb\" target=\"_parent\"><img src=\"https://colab.research.google.com/assets/colab-badge.svg\" alt=\"Open In Colab\"/></a>"
      ]
    },
    {
      "cell_type": "code",
      "metadata": {
        "colab": {
          "base_uri": "https://localhost:8080/"
        },
        "id": "DKphuiUl116s",
        "outputId": "4552f59e-8b05-45b6-beb3-3934b19003a3"
      },
      "source": [
        "!pip install cryptography"
      ],
      "execution_count": null,
      "outputs": [
        {
          "output_type": "stream",
          "text": [
            "Collecting cryptography\n",
            "\u001b[?25l  Downloading https://files.pythonhosted.org/packages/c9/de/7054df0620b5411ba45480f0261e1fb66a53f3db31b28e3aa52c026e72d9/cryptography-3.3.1-cp36-abi3-manylinux2010_x86_64.whl (2.6MB)\n",
            "\u001b[K     |████████████████████████████████| 2.6MB 5.7MB/s \n",
            "\u001b[?25hRequirement already satisfied: cffi>=1.12 in /usr/local/lib/python3.6/dist-packages (from cryptography) (1.14.4)\n",
            "Requirement already satisfied: six>=1.4.1 in /usr/local/lib/python3.6/dist-packages (from cryptography) (1.15.0)\n",
            "Requirement already satisfied: pycparser in /usr/local/lib/python3.6/dist-packages (from cffi>=1.12->cryptography) (2.20)\n",
            "Installing collected packages: cryptography\n",
            "Successfully installed cryptography-3.3.1\n"
          ],
          "name": "stdout"
        }
      ]
    },
    {
      "cell_type": "code",
      "metadata": {
        "id": "bmz8OX-x3UYe"
      },
      "source": [
        "from cryptography.fernet import Fernet"
      ],
      "execution_count": null,
      "outputs": []
    },
    {
      "cell_type": "code",
      "metadata": {
        "id": "SBZnxkV73jsX"
      },
      "source": [
        "def generatePassKey():\r\n",
        "  key=Fernet.generate_key()\r\n",
        "  print(key)\r\n",
        "  print(type(key))\r\n",
        "  abc=open(\"PasswordKey.key\",'wb')\r\n",
        "  abc.write(key)\r\n",
        "  abc.close()"
      ],
      "execution_count": null,
      "outputs": []
    },
    {
      "cell_type": "code",
      "metadata": {
        "colab": {
          "base_uri": "https://localhost:8080/"
        },
        "id": "OGPDtd0K4kaY",
        "outputId": "185bad90-2f4e-45db-daaf-44c8de887382"
      },
      "source": [
        "generatePassKey()"
      ],
      "execution_count": null,
      "outputs": [
        {
          "output_type": "stream",
          "text": [
            "b'JzQ843WBB3euH5PzieibojcXOZQo9GHl8UaME6uKDNo='\n",
            "<class 'bytes'>\n"
          ],
          "name": "stdout"
        }
      ]
    },
    {
      "cell_type": "code",
      "metadata": {
        "id": "Cojzwzd85feo"
      },
      "source": [
        "def getMyKey():\r\n",
        "  abc=open(\"PasswordKey.key\",'rb')\r\n",
        "  return abc.read()"
      ],
      "execution_count": null,
      "outputs": []
    },
    {
      "cell_type": "code",
      "metadata": {
        "colab": {
          "base_uri": "https://localhost:8080/"
        },
        "id": "3vhV7gR951yS",
        "outputId": "f82bf8fb-9c66-4edb-abe9-aa9a4afb604f"
      },
      "source": [
        "getMyKey()"
      ],
      "execution_count": null,
      "outputs": [
        {
          "output_type": "execute_result",
          "data": {
            "text/plain": [
              "b'JzQ843WBB3euH5PzieibojcXOZQo9GHl8UaME6uKDNo='"
            ]
          },
          "metadata": {
            "tags": []
          },
          "execution_count": 9
        }
      ]
    },
    {
      "cell_type": "code",
      "metadata": {
        "id": "J2AVD7zy6FO3"
      },
      "source": [
        "def getContentFromUser():\r\n",
        "  return input(\"Enter the content you want to Encrypt in your python script\")"
      ],
      "execution_count": null,
      "outputs": []
    },
    {
      "cell_type": "code",
      "metadata": {
        "colab": {
          "base_uri": "https://localhost:8080/",
          "height": 52
        },
        "id": "DTmeaadM6fSJ",
        "outputId": "16866d3e-03c6-4e66-a1eb-cac3cd46c8a0"
      },
      "source": [
        "getContentFromUser()"
      ],
      "execution_count": null,
      "outputs": [
        {
          "output_type": "stream",
          "text": [
            "Enter the content you want to Encrypt in your python scriptHello good morning all..it's a good day\n"
          ],
          "name": "stdout"
        },
        {
          "output_type": "execute_result",
          "data": {
            "application/vnd.google.colaboratory.intrinsic+json": {
              "type": "string"
            },
            "text/plain": [
              "\"Hello good morning all..it's a good day\""
            ]
          },
          "metadata": {
            "tags": []
          },
          "execution_count": 11
        }
      ]
    },
    {
      "cell_type": "code",
      "metadata": {
        "id": "5dcIxRMm6687"
      },
      "source": [
        "def encryptMessage(message_normal):\r\n",
        "    key = getMyKey()\r\n",
        "    k = Fernet(key)\r\n",
        "    encrypted_Message = k.encrypt(message_normal)\r\n",
        "    return encrypted_Message"
      ],
      "execution_count": null,
      "outputs": []
    },
    {
      "cell_type": "code",
      "metadata": {
        "colab": {
          "base_uri": "https://localhost:8080/"
        },
        "id": "Lt4Q1zbB7Yr2",
        "outputId": "ecab39a1-9b3c-49c2-c610-2d56386496e6"
      },
      "source": [
        "encryptMessage(b\"HEY THIS IS MY NUMBER 12345\")"
      ],
      "execution_count": null,
      "outputs": [
        {
          "output_type": "execute_result",
          "data": {
            "text/plain": [
              "b'gAAAAABf2ZYXmr2VlhwpANQWfb6l8QtCypLv5C8rk6Nj0w4RjwdkzxNOwzE3o4L1zYa75cNOdCmsloqlryx4mrwOMuRBsirqE9IEwWIFXreuVZ_XTz9OMto='"
            ]
          },
          "metadata": {
            "tags": []
          },
          "execution_count": 14
        }
      ]
    },
    {
      "cell_type": "code",
      "metadata": {
        "id": "jTXwErV08ozy"
      },
      "source": [
        "def decryptMessage(message_secret):\r\n",
        "    key = getMyKey()\r\n",
        "    k = Fernet(key)\r\n",
        "    decrypted_Message = k.decrypt(message_secret)\r\n",
        "    return decrypted_Message"
      ],
      "execution_count": null,
      "outputs": []
    },
    {
      "cell_type": "code",
      "metadata": {
        "colab": {
          "base_uri": "https://localhost:8080/"
        },
        "id": "m-7LlsS39DA5",
        "outputId": "eac6d889-5a6b-4cea-e532-cd6b83564036"
      },
      "source": [
        "decryptMessage(b'gAAAAABf2ZYXmr2VlhwpANQWfb6l8QtCypLv5C8rk6Nj0w4RjwdkzxNOwzE3o4L1zYa75cNOdCmsloqlryx4mrwOMuRBsirqE9IEwWIFXreuVZ_XTz9OMto=')"
      ],
      "execution_count": null,
      "outputs": [
        {
          "output_type": "execute_result",
          "data": {
            "text/plain": [
              "b'HEY THIS IS MY NUMBER 12345'"
            ]
          },
          "metadata": {
            "tags": []
          },
          "execution_count": 16
        }
      ]
    }
  ]
}